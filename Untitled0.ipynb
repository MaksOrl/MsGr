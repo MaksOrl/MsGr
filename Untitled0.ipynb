{
  "nbformat": 4,
  "nbformat_minor": 0,
  "metadata": {
    "colab": {
      "provenance": [],
      "authorship_tag": "ABX9TyPNNchO2KULm3qh7CaxX9CJ",
      "include_colab_link": true
    },
    "kernelspec": {
      "name": "python3",
      "display_name": "Python 3"
    },
    "language_info": {
      "name": "python"
    }
  },
  "cells": [
    {
      "cell_type": "markdown",
      "metadata": {
        "id": "view-in-github",
        "colab_type": "text"
      },
      "source": [
        "<a href=\"https://colab.research.google.com/github/MaksOrl/MsGr/blob/main/Untitled0.ipynb\" target=\"_parent\"><img src=\"https://colab.research.google.com/assets/colab-badge.svg\" alt=\"Open In Colab\"/></a>"
      ]
    },
    {
      "cell_type": "code",
      "execution_count": 46,
      "metadata": {
        "id": "jt-WpeiCVkzN"
      },
      "outputs": [],
      "source": [
        "import torch\n",
        "import torch.nn as nn\n",
        "import numpy as np\n",
        "from sklearn import datasets\n",
        "from sklearn.preprocessing import StandardScaler\n",
        "from sklearn.model_selection import train_test_split"
      ]
    },
    {
      "cell_type": "markdown",
      "source": [
        "# 0)Prepare data"
      ],
      "metadata": {
        "id": "zk2dwzJiYB45"
      }
    },
    {
      "cell_type": "code",
      "source": [
        "bc = datasets. load_breast_cancer()\n",
        "X, y = bc.data, bc.target\n",
        "\n",
        "n_samples, n_features = X.shape\n",
        "\n",
        "X_train, X_test, y_train, y_test = train_test_split(X, y, test_size=0.2, random_state=1234)"
      ],
      "metadata": {
        "id": "3iq1mS-7Y4p5"
      },
      "execution_count": 47,
      "outputs": []
    },
    {
      "cell_type": "markdown",
      "source": [
        "# Scale"
      ],
      "metadata": {
        "id": "hAIROR7dZy5S"
      }
    },
    {
      "cell_type": "code",
      "source": [
        "sc = StandardScaler()\n",
        "X_train = sc.fit_transform(X_train)\n",
        "X_test = sc.transform(X_test)\n",
        "\n",
        "X_train = torch.from_numpy(X_train.astype(np.float32))\n",
        "X_test = torch.from_numpy(X_test.astype(np.float32))\n",
        "y_train = torch.from_numpy(y_train.astype(np.float32))\n",
        "y_test = torch.from_numpy(y_test.astype(np.float32))\n",
        "\n",
        "y_train = y_train.view(y_train.shape [0], 1)\n",
        "y_test = y_test.view(y_test.shape [0], 1)"
      ],
      "metadata": {
        "id": "WuoLOQAzZ1J6"
      },
      "execution_count": 48,
      "outputs": []
    },
    {
      "cell_type": "markdown",
      "source": [
        "# 1)Model"
      ],
      "metadata": {
        "id": "b7V1GY5Vd4WR"
      }
    },
    {
      "cell_type": "markdown",
      "source": [
        "f = wx + b, sigmoid at the end"
      ],
      "metadata": {
        "id": "D6bTkiOTeGVg"
      }
    },
    {
      "cell_type": "code",
      "source": [
        "class LogisticResgression(nn.Module):\n",
        "  def __init__(self, n_input_features):\n",
        "    super(LogisticResgression, self).__init__()\n",
        "    self.linear = nn.Linear(n_input_features, 1)\n",
        "\n",
        "  def forward(self, x):\n",
        "    y_predicted = torch.sigmoid(self.linear(x))\n",
        "    return y_predicted\n",
        "\n",
        "model = LogisticResgression(n_features)"
      ],
      "metadata": {
        "id": "7DtmFjopeU6Y"
      },
      "execution_count": 49,
      "outputs": []
    },
    {
      "cell_type": "markdown",
      "source": [
        "# 2)Loss and Optimizer"
      ],
      "metadata": {
        "id": "qXt2Wosdg5bP"
      }
    },
    {
      "cell_type": "code",
      "source": [
        "learning_rate = 0.01\n",
        "criterion = nn.BCELoss()\n",
        "optimizer = torch.optim.SGD(model.parameters(), lr=learning_rate)"
      ],
      "metadata": {
        "id": "Gxn9Cu5FhBgw"
      },
      "execution_count": 50,
      "outputs": []
    },
    {
      "cell_type": "markdown",
      "source": [
        "# 3)Training loop"
      ],
      "metadata": {
        "id": "04iGmYdohjrP"
      }
    },
    {
      "cell_type": "code",
      "source": [
        "num_epochs = 100\n",
        "for epoch in range(num_epochs):\n",
        "  # forward pass and loss\n",
        "  y_predicted = model (X_train)\n",
        "  loss = criterion (y_predicted, y_train)\n",
        "\n",
        "  # backward pass\n",
        "  loss.backward()\n",
        "\n",
        "  # updates\n",
        "  optimizer.step()\n",
        "\n",
        "  # zero gradients\n",
        "  optimizer.zero_grad()\n",
        "\n",
        "  if (epoch+1) % 10 == 0:\n",
        "    print(f'epoch: {epoch+1}, loss = {loss.item():.4f}')\n"
      ],
      "metadata": {
        "colab": {
          "base_uri": "https://localhost:8080/"
        },
        "id": "K1Mj4Cnphql4",
        "outputId": "5eb47000-5b88-45a7-f6ad-d312bd60318f"
      },
      "execution_count": 51,
      "outputs": [
        {
          "output_type": "stream",
          "name": "stdout",
          "text": [
            "epoch: 10, loss = 0.5436\n",
            "epoch: 20, loss = 0.4535\n",
            "epoch: 30, loss = 0.3954\n",
            "epoch: 40, loss = 0.3546\n",
            "epoch: 50, loss = 0.3242\n",
            "epoch: 60, loss = 0.3004\n",
            "epoch: 70, loss = 0.2813\n",
            "epoch: 80, loss = 0.2654\n",
            "epoch: 90, loss = 0.2520\n",
            "epoch: 100, loss = 0.2405\n"
          ]
        }
      ]
    },
    {
      "cell_type": "code",
      "source": [
        "with torch.no_grad ():\n",
        "  y_predicted = model (X_test)\n",
        "  y_predicted_cls = y_predicted.round ()\n",
        "  acc = y_predicted_cls.eq (y_test).sum () / float (y_test.shape [0])\n",
        "  print (f'accuracy = {acc:4f}')"
      ],
      "metadata": {
        "colab": {
          "base_uri": "https://localhost:8080/"
        },
        "id": "0-pmk9Lp078s",
        "outputId": "8f34f641-0091-46d0-f678-03cdad4aec2f"
      },
      "execution_count": 52,
      "outputs": [
        {
          "output_type": "stream",
          "name": "stdout",
          "text": [
            "accuracy = 0.885965\n"
          ]
        }
      ]
    }
  ]
}