{
  "nbformat": 4,
  "nbformat_minor": 0,
  "metadata": {
    "colab": {
      "provenance": [],
      "authorship_tag": "ABX9TyMGPABZKJjonubvFodesgyq",
      "include_colab_link": true
    },
    "kernelspec": {
      "name": "python3",
      "display_name": "Python 3"
    },
    "language_info": {
      "name": "python"
    }
  },
  "cells": [
    {
      "cell_type": "markdown",
      "metadata": {
        "id": "view-in-github",
        "colab_type": "text"
      },
      "source": [
        "<a href=\"https://colab.research.google.com/github/MaksOrl/MsGr/blob/main/%D0%9F%D1%80%D0%B0%D0%BA%D1%82%D0%B8%D0%BA%D0%B0_10(%D0%B2%D0%B5%D1%80%D0%BD%D0%B0%D1%8F)_ipynb%22.ipynb\" target=\"_parent\"><img src=\"https://colab.research.google.com/assets/colab-badge.svg\" alt=\"Open In Colab\"/></a>"
      ]
    },
    {
      "cell_type": "code",
      "execution_count": 2,
      "metadata": {
        "id": "XVyZTvm65uaf"
      },
      "outputs": [],
      "source": [
        "import torch\n",
        "import torchvision\n",
        "from torch.utils.data import Dataset, DataLoader\n",
        "import numpy as np\n",
        "import math\n",
        "from google.colab import files"
      ]
    },
    {
      "cell_type": "code",
      "source": [
        "class WineDataset(Dataset):\n",
        "  def __init__ (self, transform=None):\n",
        "    xy = np.loadtxt ('wine.csv', delimiter = \",\", dtype = np.float32, skiprows = 1)\n",
        "    self.x = torch.from_numpy (xy [:,1:])\n",
        "    self.y = torch.from_numpy (xy [:,[0]]) # n_samples, 1\n",
        "    self.n_samples = xy.shape [0]\n",
        "\n",
        "    self.transform = transform\n",
        "\n",
        "  def __getitem__ (self, index):\n",
        "    # dataset [0]\n",
        "    sample = self.x [index], self.y [index]\n",
        "\n",
        "    if self.transform:\n",
        "      sample = self.transform(sample)\n",
        "\n",
        "    return sample\n",
        "\n",
        "  def __len__ (self):\n",
        "    # len (dataset)\n",
        "    return self.n_samples\n",
        "\n",
        "\n",
        "class ToTensor:\n",
        "  def __call__(self, sample):\n",
        "    inputs, targets = sample\n",
        "    return torch.from_numpy(inputs), torch.from_numpy(targets)\n",
        "\n",
        "class MulTransform:\n",
        "  def __init__(self, factor):\n",
        "    self.factor = factor\n",
        "\n",
        "  def __call__(self, sample):\n",
        "    inputs, target = sample\n",
        "    inputs *= self.factor\n",
        "    return inputs, target\n",
        "\n",
        "dataset=WineDataset(transform=None)\n",
        "first_data = dataset[0]\n",
        "feautres, labels = first_data\n",
        "print(type(feautres), type(labels))"
      ],
      "metadata": {
        "colab": {
          "base_uri": "https://localhost:8080/"
        },
        "id": "5zuULOLH5vW_",
        "outputId": "89cf1635-2fa9-4c1a-fe08-c15d82d1af17"
      },
      "execution_count": 13,
      "outputs": [
        {
          "output_type": "stream",
          "name": "stdout",
          "text": [
            "<class 'torch.Tensor'> <class 'torch.Tensor'>\n"
          ]
        }
      ]
    },
    {
      "cell_type": "code",
      "source": [
        "composed = torchvision.transforms.Compose([ToTensor(), MulTransform(2)])\n",
        "dataset = WineDataset(transform=composed)"
      ],
      "metadata": {
        "id": "qm7zAjzRFbLg"
      },
      "execution_count": 17,
      "outputs": []
    }
  ]
}